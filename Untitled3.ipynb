{
  "nbformat": 4,
  "nbformat_minor": 0,
  "metadata": {
    "colab": {
      "name": "Untitled3.ipynb",
      "provenance": []
    },
    "kernelspec": {
      "name": "python3",
      "display_name": "Python 3"
    },
    "language_info": {
      "name": "python"
    }
  },
  "cells": [
    {
      "cell_type": "code",
      "metadata": {
        "colab": {
          "base_uri": "https://localhost:8080/"
        },
        "id": "aWGlzhb2rOpR",
        "outputId": "5caf1128-8c34-46ef-ebb9-96528ead4498"
      },
      "source": [
        "pro_detail ={\"product_id\":\"101\",\"name\":\"snacks\",\"exp\":\"20aug2024\",\"price\":20,\"quant\":40}\n",
        "\n",
        "pro_detail"
      ],
      "execution_count": 81,
      "outputs": [
        {
          "output_type": "execute_result",
          "data": {
            "text/plain": [
              "{'exp': '20aug2024',\n",
              " 'name': 'snacks',\n",
              " 'price': 20,\n",
              " 'product_id': '101',\n",
              " 'quant': 40}"
            ]
          },
          "metadata": {},
          "execution_count": 81
        }
      ]
    },
    {
      "cell_type": "code",
      "metadata": {
        "colab": {
          "base_uri": "https://localhost:8080/"
        },
        "id": "5qFkcz7wBQQP",
        "outputId": "0bd9cdfd-61a0-4e4c-a8b3-9a25e6065c9e"
      },
      "source": [
        "pro_detail ={\"product_id\":102,\"name\":\"colddrink\",\"exp\":\"20jan2023\",\"price\":30,\"quant\":10}\n",
        "pro_detail"
      ],
      "execution_count": null,
      "outputs": [
        {
          "output_type": "execute_result",
          "data": {
            "text/plain": [
              "{'exp': '20jan2023',\n",
              " 'name': 'colddrink',\n",
              " 'price': 30,\n",
              " 'product_id': 102,\n",
              " 'quant': 10}"
            ]
          },
          "metadata": {},
          "execution_count": 14
        }
      ]
    },
    {
      "cell_type": "code",
      "metadata": {
        "colab": {
          "base_uri": "https://localhost:8080/"
        },
        "id": "M_lwh4cKBTTo",
        "outputId": "e3ce80c2-f5e3-4d3d-c63e-0f5cb9fe7391"
      },
      "source": [
        "pro_detail ={\"product_id\":103,\"name\":\"toffee\",\"exp\":\"20sep2021\",\"price\":10,\"quant\":40}\n",
        "pro_detail"
      ],
      "execution_count": null,
      "outputs": [
        {
          "output_type": "execute_result",
          "data": {
            "text/plain": [
              "{'exp': '20sep2021',\n",
              " 'name': 'toffee',\n",
              " 'price': 10,\n",
              " 'product_id': 103,\n",
              " 'quant': 40}"
            ]
          },
          "metadata": {},
          "execution_count": 15
        }
      ]
    },
    {
      "cell_type": "code",
      "metadata": {
        "colab": {
          "base_uri": "https://localhost:8080/"
        },
        "id": "diiCIRmNBTb7",
        "outputId": "48218c1a-b0b2-4a41-d166-0e45d425675f"
      },
      "source": [
        "pro_detail ={\"product_id\":104,\"name\":\"cake\",\"exp\":\"20aug2022\",\"price\":20,\"quant\":30}\n",
        "pro_detail"
      ],
      "execution_count": null,
      "outputs": [
        {
          "output_type": "execute_result",
          "data": {
            "text/plain": [
              "{'exp': '20aug2022',\n",
              " 'name': 'cake',\n",
              " 'price': 20,\n",
              " 'product_id': 104,\n",
              " 'quant': 30}"
            ]
          },
          "metadata": {},
          "execution_count": 16
        }
      ]
    },
    {
      "cell_type": "code",
      "metadata": {
        "colab": {
          "base_uri": "https://localhost:8080/"
        },
        "id": "umG7FF7xBQjh",
        "outputId": "04a038bb-2c81-409f-d811-4d75c5d8cf1c"
      },
      "source": [
        "pro_detail ={\"product_id\":105,\"name\":\"milk\",\"exp\":\"20aug2021\",\"price\":20,\"quant\":38}\n",
        "pro_detail"
      ],
      "execution_count": null,
      "outputs": [
        {
          "output_type": "execute_result",
          "data": {
            "text/plain": [
              "{'exp': '20aug2021',\n",
              " 'name': 'milk',\n",
              " 'price': 20,\n",
              " 'product_id': 105,\n",
              " 'quant': 38}"
            ]
          },
          "metadata": {},
          "execution_count": 21
        }
      ]
    },
    {
      "cell_type": "code",
      "metadata": {
        "colab": {
          "base_uri": "https://localhost:8080/"
        },
        "id": "Kjw_ASb7Eemd",
        "outputId": "c6fe5cca-b499-4f79-dcab-03e50f5e9320"
      },
      "source": [
        "pro_detail ={\"product_id\":106,\"name\":\"sunscreen\",\"exp\":\"12aug2022\",\"price\":55,\"quant\":44}\n",
        "pro_detail"
      ],
      "execution_count": null,
      "outputs": [
        {
          "output_type": "execute_result",
          "data": {
            "text/plain": [
              "{'exp': '12aug2022',\n",
              " 'name': 'sunscreen',\n",
              " 'price': 55,\n",
              " 'product_id': 106,\n",
              " 'quant': 44}"
            ]
          },
          "metadata": {},
          "execution_count": 22
        }
      ]
    },
    {
      "cell_type": "code",
      "metadata": {
        "colab": {
          "base_uri": "https://localhost:8080/"
        },
        "id": "2-rKxtqlEe-I",
        "outputId": "a25933b5-daf5-4d99-a97e-a7009a7b193f"
      },
      "source": [
        "pro_detail ={\"product_id\":107,\"name\":\"motor oil\",\"exp\":\"sep2026\",\"price\":100,\"quant\":70}\n",
        "pro_detail"
      ],
      "execution_count": null,
      "outputs": [
        {
          "output_type": "execute_result",
          "data": {
            "text/plain": [
              "{'exp': 'sep2026',\n",
              " 'name': 'motor oil',\n",
              " 'price': 100,\n",
              " 'product_id': 107,\n",
              " 'quant': 70}"
            ]
          },
          "metadata": {},
          "execution_count": 23
        }
      ]
    },
    {
      "cell_type": "code",
      "metadata": {
        "colab": {
          "base_uri": "https://localhost:8080/"
        },
        "id": "el6dmYoYEfMs",
        "outputId": "58b4afd2-137f-41c9-e1af-640a0c94b259"
      },
      "source": [
        "pro_detail ={\"product_id\":108,\"name\":\"tea bags\",\"exp\":\"dec2021\",\"price\":30,\"quant\":30}\n",
        "pro_detail"
      ],
      "execution_count": null,
      "outputs": [
        {
          "output_type": "execute_result",
          "data": {
            "text/plain": [
              "{'exp': 'dec2021',\n",
              " 'name': 'tea bags',\n",
              " 'price': 30,\n",
              " 'product_id': 108,\n",
              " 'quant': 30}"
            ]
          },
          "metadata": {},
          "execution_count": 24
        }
      ]
    },
    {
      "cell_type": "code",
      "metadata": {
        "colab": {
          "base_uri": "https://localhost:8080/"
        },
        "id": "f5NnAeVCEfdn",
        "outputId": "2b99fec2-b7d7-4590-cb97-6369597ef403"
      },
      "source": [
        "pro_detail ={\"product_id\":109,\"name\":\"paint\",\"exp\":\"jan2025\",\"price\":250,\"quant\":85}\n",
        "pro_detail"
      ],
      "execution_count": null,
      "outputs": [
        {
          "output_type": "execute_result",
          "data": {
            "text/plain": [
              "{'exp': 'jan2025',\n",
              " 'name': 'paint',\n",
              " 'price': 250,\n",
              " 'product_id': 109,\n",
              " 'quant': 85}"
            ]
          },
          "metadata": {},
          "execution_count": 25
        }
      ]
    },
    {
      "cell_type": "code",
      "metadata": {
        "colab": {
          "base_uri": "https://localhost:8080/"
        },
        "id": "ZpMRtZvEEfrj",
        "outputId": "f084a434-d676-4d18-af96-03bc004e4bfe"
      },
      "source": [
        "pro_detail ={\"product_id\":110,\"name\":\"toothpaste\",\"exp\":\"feb2023\",\"price\":40,\"quant\":5}\n",
        "pro_detail"
      ],
      "execution_count": null,
      "outputs": [
        {
          "output_type": "execute_result",
          "data": {
            "text/plain": [
              "{'exp': 'feb2023',\n",
              " 'name': 'toothpaste',\n",
              " 'price': 40,\n",
              " 'product_id': 110,\n",
              " 'quant': 5}"
            ]
          },
          "metadata": {},
          "execution_count": 26
        }
      ]
    },
    {
      "cell_type": "code",
      "metadata": {
        "colab": {
          "base_uri": "https://localhost:8080/"
        },
        "id": "TSfbM2dqEf4j",
        "outputId": "4bb52429-4472-4475-df4e-da7fe3a1101c"
      },
      "source": [
        "pro_detail ={\"product_id\":111,\"name\":\"bar soap\",\"exp\":\"march2022\",\"price\":15,\"quant\":20}\n",
        "pro_detail"
      ],
      "execution_count": null,
      "outputs": [
        {
          "output_type": "execute_result",
          "data": {
            "text/plain": [
              "{'exp': 'march2022',\n",
              " 'name': 'bar soap',\n",
              " 'price': 15,\n",
              " 'product_id': 111,\n",
              " 'quant': 20}"
            ]
          },
          "metadata": {},
          "execution_count": 27
        }
      ]
    },
    {
      "cell_type": "code",
      "metadata": {
        "colab": {
          "base_uri": "https://localhost:8080/"
        },
        "id": "9A5XvX6NEgGM",
        "outputId": "280f5703-699a-40a6-c7ff-d2ca1a5df7c2"
      },
      "source": [
        "pro_detail ={\"product_id\":112,\"name\":\"hydrogen peroxide\",\"exp\":\"feb2024\",\"price\":1000,\"quant\":100}\n",
        "pro_detail"
      ],
      "execution_count": null,
      "outputs": [
        {
          "output_type": "execute_result",
          "data": {
            "text/plain": [
              "{'exp': 'feb2024',\n",
              " 'name': 'hydrogen peroxide',\n",
              " 'price': 1000,\n",
              " 'product_id': 112,\n",
              " 'quant': 100}"
            ]
          },
          "metadata": {},
          "execution_count": 28
        }
      ]
    },
    {
      "cell_type": "code",
      "metadata": {
        "colab": {
          "base_uri": "https://localhost:8080/"
        },
        "id": "JjIXf8zPEgUP",
        "outputId": "95cead86-ff2d-490c-f87f-3e77f50fd656"
      },
      "source": [
        "pro_detail ={\"product_id\":113,\"name\":\"bug spray\",\"exp\":\"july2022\",\"price\":70,\"quant\":1}\n",
        "pro_detail"
      ],
      "execution_count": null,
      "outputs": [
        {
          "output_type": "execute_result",
          "data": {
            "text/plain": [
              "{'exp': 'july2022',\n",
              " 'name': 'bug spray',\n",
              " 'price': 70,\n",
              " 'product_id': 113,\n",
              " 'quant': 1}"
            ]
          },
          "metadata": {},
          "execution_count": 29
        }
      ]
    },
    {
      "cell_type": "code",
      "metadata": {
        "colab": {
          "base_uri": "https://localhost:8080/"
        },
        "id": "99JkQUz0EghY",
        "outputId": "aaf5af0b-6faf-4776-ca57-54ac5a0f1ffc"
      },
      "source": [
        "pro_detail ={\"product_id\":114,\"name\":\"mascara\",\"exp\":\"june2022\",\"price\":77,\"quant\":20}\n",
        "pro_detail"
      ],
      "execution_count": null,
      "outputs": [
        {
          "output_type": "execute_result",
          "data": {
            "text/plain": [
              "{'exp': 'june2022',\n",
              " 'name': 'mascara',\n",
              " 'price': 77,\n",
              " 'product_id': 114,\n",
              " 'quant': 20}"
            ]
          },
          "metadata": {},
          "execution_count": 30
        }
      ]
    },
    {
      "cell_type": "code",
      "metadata": {
        "colab": {
          "base_uri": "https://localhost:8080/"
        },
        "id": "4C2i22-kEgua",
        "outputId": "b5567ea1-ca00-4950-919f-a294421ef43f"
      },
      "source": [
        "pro_detail ={\"product_id\":115,\"name\":\"moisturizer\",\"exp\":\"aug2023\",\"price\":100,\"quant\":4}\n",
        "pro_detail"
      ],
      "execution_count": null,
      "outputs": [
        {
          "output_type": "execute_result",
          "data": {
            "text/plain": [
              "{'exp': 'aug2023',\n",
              " 'name': 'moisturizer',\n",
              " 'price': 100,\n",
              " 'product_id': 115,\n",
              " 'quant': 4}"
            ]
          },
          "metadata": {},
          "execution_count": 44
        }
      ]
    },
    {
      "cell_type": "code",
      "metadata": {
        "colab": {
          "base_uri": "https://localhost:8080/"
        },
        "id": "LPo3KP8IEg67",
        "outputId": "d9500222-c3f1-4da2-f2f6-bef811fff650"
      },
      "source": [
        "pro_detail ={\"product_id\":116,\"name\":\"soy sauce\",\"exp\":\"oct2022\",\"price\":25,\"quant\":10}\n",
        "pro_detail"
      ],
      "execution_count": null,
      "outputs": [
        {
          "output_type": "execute_result",
          "data": {
            "text/plain": [
              "{'exp': 'oct2022',\n",
              " 'name': 'soy sauce',\n",
              " 'price': 25,\n",
              " 'product_id': 116,\n",
              " 'quant': 10}"
            ]
          },
          "metadata": {},
          "execution_count": 43
        }
      ]
    },
    {
      "cell_type": "code",
      "metadata": {
        "colab": {
          "base_uri": "https://localhost:8080/"
        },
        "id": "xgp0sEQUEhIF",
        "outputId": "72c9dea9-8c43-4ab9-894e-21bd791b077d"
      },
      "source": [
        "pro_detail ={\"product_id\":117,\"name\":\"sugar syrup\",\"exp\":\"dec2021\",\"price\":55,\"quant\":66}\n",
        "pro_detail"
      ],
      "execution_count": null,
      "outputs": [
        {
          "output_type": "execute_result",
          "data": {
            "text/plain": [
              "{'exp': 'dec2021',\n",
              " 'name': 'sugar syrup',\n",
              " 'price': 55,\n",
              " 'product_id': 117,\n",
              " 'quant': 66}"
            ]
          },
          "metadata": {},
          "execution_count": 42
        }
      ]
    },
    {
      "cell_type": "code",
      "metadata": {
        "colab": {
          "base_uri": "https://localhost:8080/"
        },
        "id": "oVkl9Ce3Ehgu",
        "outputId": "6e726320-4a3a-4740-f9a4-9938d228784f"
      },
      "source": [
        "pro_detail ={\"product_id\":118,\"name\":\"beans\",\"exp\":\"dec2022\",\"price\":79,\"quant\":8}\n",
        "pro_detail"
      ],
      "execution_count": null,
      "outputs": [
        {
          "output_type": "execute_result",
          "data": {
            "text/plain": [
              "{'exp': 'dec2022', 'name': 'beans', 'price': 79, 'product_id': 118, 'quant': 8}"
            ]
          },
          "metadata": {},
          "execution_count": 41
        }
      ]
    },
    {
      "cell_type": "code",
      "metadata": {
        "colab": {
          "base_uri": "https://localhost:8080/"
        },
        "id": "nhIQXkeGEhrO",
        "outputId": "f3632f84-11b9-493d-e0bc-99dc97b36084"
      },
      "source": [
        "pro_detail ={\"product_id\":119,\"name\":\"salt\",\"exp\":\"dec2021\",\"price\":78,\"quant\":100}\n",
        "pro_detail"
      ],
      "execution_count": null,
      "outputs": [
        {
          "output_type": "execute_result",
          "data": {
            "text/plain": [
              "{'exp': 'dec2021',\n",
              " 'name': 'salt',\n",
              " 'price': 78,\n",
              " 'product_id': 119,\n",
              " 'quant': 100}"
            ]
          },
          "metadata": {},
          "execution_count": 40
        }
      ]
    },
    {
      "cell_type": "code",
      "metadata": {
        "colab": {
          "base_uri": "https://localhost:8080/"
        },
        "id": "9B7cgaEXEh17",
        "outputId": "44f35a28-649c-462f-dcec-0a1aacba5046"
      },
      "source": [
        "pro_detail ={\"product_id\":120,\"name\":\"vinegar\",\"exp\":\"june2023\",\"price\":390,\"quant\":200}\n",
        "pro_detail"
      ],
      "execution_count": null,
      "outputs": [
        {
          "output_type": "execute_result",
          "data": {
            "text/plain": [
              "{'exp': 'june2023',\n",
              " 'name': 'vinegar',\n",
              " 'price': 390,\n",
              " 'product_id': 120,\n",
              " 'quant': 200}"
            ]
          },
          "metadata": {},
          "execution_count": 39
        }
      ]
    },
    {
      "cell_type": "code",
      "metadata": {
        "colab": {
          "base_uri": "https://localhost:8080/"
        },
        "id": "jh-alVWBEh_D",
        "outputId": "7fd78412-5706-4a60-b5b1-f619868ed9b2"
      },
      "source": [
        "pro_detail ={\"product_id\":121,\"name\":\"honey\",\"exp\":\"jan2027\",\"price\":150,\"quant\":58}\n",
        "pro_detail"
      ],
      "execution_count": null,
      "outputs": [
        {
          "output_type": "execute_result",
          "data": {
            "text/plain": [
              "{'exp': 'jan2027',\n",
              " 'name': 'honey',\n",
              " 'price': 150,\n",
              " 'product_id': 121,\n",
              " 'quant': 58}"
            ]
          },
          "metadata": {},
          "execution_count": 38
        }
      ]
    },
    {
      "cell_type": "code",
      "metadata": {
        "colab": {
          "base_uri": "https://localhost:8080/"
        },
        "id": "GuYnSLDZEiJu",
        "outputId": "48bf08f6-2a75-4e1d-fd59-6ef7d2a73e5d"
      },
      "source": [
        "pro_detail ={\"product_id\":122,\"name\":\"tea\",\"exp\":\"april2023\",\"price\":520,\"quant\":50}\n",
        "pro_detail"
      ],
      "execution_count": null,
      "outputs": [
        {
          "output_type": "execute_result",
          "data": {
            "text/plain": [
              "{'exp': 'april2023',\n",
              " 'name': 'tea',\n",
              " 'price': 520,\n",
              " 'product_id': 122,\n",
              " 'quant': 50}"
            ]
          },
          "metadata": {},
          "execution_count": 36
        }
      ]
    },
    {
      "cell_type": "code",
      "metadata": {
        "colab": {
          "base_uri": "https://localhost:8080/"
        },
        "id": "TuLSGElAEiTe",
        "outputId": "d1a2de3b-6ab0-4cf8-f81d-cea733a8d891"
      },
      "source": [
        "pro_detail ={\"product_id\":123,\"name\":\"cashewnuts\",\"exp\":\"nov2022\",\"price\":378,\"quant\":70}\n",
        "pro_detail"
      ],
      "execution_count": null,
      "outputs": [
        {
          "output_type": "execute_result",
          "data": {
            "text/plain": [
              "{'exp': 'nov2022',\n",
              " 'name': 'cashewnuts',\n",
              " 'price': 378,\n",
              " 'product_id': 123,\n",
              " 'quant': 70}"
            ]
          },
          "metadata": {},
          "execution_count": 35
        }
      ]
    },
    {
      "cell_type": "code",
      "metadata": {
        "colab": {
          "base_uri": "https://localhost:8080/"
        },
        "id": "gWxN_82BEic3",
        "outputId": "b7ecf41a-b669-4625-eeb0-430f1fb170b5"
      },
      "source": [
        "pro_detail ={\"product_id\":124,\"name\":\"detoll\",\"exp\":\"oct2024\",\"price\":185,\"quant\":48}\n",
        "pro_detail"
      ],
      "execution_count": null,
      "outputs": [
        {
          "output_type": "execute_result",
          "data": {
            "text/plain": [
              "{'exp': 'oct2024',\n",
              " 'name': 'detoll',\n",
              " 'price': 185,\n",
              " 'product_id': 124,\n",
              " 'quant': 48}"
            ]
          },
          "metadata": {},
          "execution_count": 34
        }
      ]
    },
    {
      "cell_type": "code",
      "metadata": {
        "colab": {
          "base_uri": "https://localhost:8080/"
        },
        "id": "3W48eu5hEinW",
        "outputId": "d2c3c5ca-09db-4c31-8227-fc12a039947c"
      },
      "source": [
        "pro_detail ={\"product_id\":125,\"name\":\"bread\",\"exp\":\"sep2021\",\"price\":30,\"quant\":210}\n",
        "pro_detail"
      ],
      "execution_count": null,
      "outputs": [
        {
          "output_type": "execute_result",
          "data": {
            "text/plain": [
              "{'exp': 'sep2021',\n",
              " 'name': 'bread',\n",
              " 'price': 30,\n",
              " 'product_id': 125,\n",
              " 'quant': 210}"
            ]
          },
          "metadata": {},
          "execution_count": 33
        }
      ]
    },
    {
      "cell_type": "code",
      "metadata": {
        "colab": {
          "base_uri": "https://localhost:8080/"
        },
        "id": "7GlB7rUFEiwq",
        "outputId": "f7b202bd-a584-46f2-9e7a-e3c15913faab"
      },
      "source": [
        "pro_detail ={\"product_id\":126,\"name\":\"walnut\",\"exp\":\"sep2022\",\"price\":359,\"quant\":510}\n",
        "pro_detail"
      ],
      "execution_count": null,
      "outputs": [
        {
          "output_type": "execute_result",
          "data": {
            "text/plain": [
              "{'exp': 'sep2022',\n",
              " 'name': 'walnut',\n",
              " 'price': 359,\n",
              " 'product_id': 126,\n",
              " 'quant': 510}"
            ]
          },
          "metadata": {},
          "execution_count": 32
        }
      ]
    },
    {
      "cell_type": "code",
      "metadata": {
        "colab": {
          "base_uri": "https://localhost:8080/"
        },
        "id": "TvQElxgbEi7O",
        "outputId": "a5cc3ac1-9833-451c-9636-2615e3299067"
      },
      "source": [
        "pro_detail ={\"product_id\":127,\"name\":\"deodorant\",\"exp\":\"jan2025\",\"price\":291,\"quant\":38}\n",
        "pro_detail\n"
      ],
      "execution_count": null,
      "outputs": [
        {
          "output_type": "execute_result",
          "data": {
            "text/plain": [
              "{'exp': 'jan2025',\n",
              " 'name': 'deodorant',\n",
              " 'price': 291,\n",
              " 'product_id': 127,\n",
              " 'quant': 38}"
            ]
          },
          "metadata": {},
          "execution_count": 31
        }
      ]
    },
    {
      "cell_type": "code",
      "metadata": {
        "colab": {
          "base_uri": "https://localhost:8080/"
        },
        "id": "voxcvjVYHwPH",
        "outputId": "8d4bf2e6-5617-4ad7-9e80-0438937bed8f"
      },
      "source": [
        "pro_detail ={\"product_id\":128,\"name\":\"pen\",\"exp\":\"feb2026\",\"price\":10,\"quant\":200}\n",
        "pro_detail"
      ],
      "execution_count": null,
      "outputs": [
        {
          "output_type": "execute_result",
          "data": {
            "text/plain": [
              "{'exp': 'feb2026', 'name': 'pen', 'price': 10, 'product_id': 128, 'quant': 200}"
            ]
          },
          "metadata": {},
          "execution_count": 48
        }
      ]
    },
    {
      "cell_type": "code",
      "metadata": {
        "colab": {
          "base_uri": "https://localhost:8080/"
        },
        "id": "LO1TLrALH82d",
        "outputId": "3fc466b1-0178-4e1d-f0ac-6fb8f56b1eeb"
      },
      "source": [
        "pro_detail ={\"product_id\":129,\"name\":\"oil\",\"exp\":\"june2024\",\"price\":189,\"quant\":100}\n",
        "pro_detail"
      ],
      "execution_count": null,
      "outputs": [
        {
          "output_type": "execute_result",
          "data": {
            "text/plain": [
              "{'exp': 'june2024',\n",
              " 'name': 'oil',\n",
              " 'price': 189,\n",
              " 'product_id': 129,\n",
              " 'quant': 100}"
            ]
          },
          "metadata": {},
          "execution_count": 46
        }
      ]
    },
    {
      "cell_type": "code",
      "metadata": {
        "colab": {
          "base_uri": "https://localhost:8080/"
        },
        "id": "cJky9CunH9DO",
        "outputId": "b5ced568-2189-4c23-d286-7e5e7dfbb51a"
      },
      "source": [
        "pro_detail ={\"product_id\":130,\"name\":\"raisins\",\"exp\":\"sep2023\",\"price\":180,\"quant\":96}\n",
        "pro_detail"
      ],
      "execution_count": null,
      "outputs": [
        {
          "output_type": "execute_result",
          "data": {
            "text/plain": [
              "{'exp': 'sep2023',\n",
              " 'name': 'raisins',\n",
              " 'price': 180,\n",
              " 'product_id': 130,\n",
              " 'quant': 96}"
            ]
          },
          "metadata": {},
          "execution_count": 51
        }
      ]
    },
    {
      "cell_type": "code",
      "metadata": {
        "colab": {
          "base_uri": "https://localhost:8080/"
        },
        "id": "dNP5bY6X_9ES",
        "outputId": "5e4534c6-b17f-4e0a-9a89-62efe6abe6df"
      },
      "source": [
        "for i in pro_detail.keys():\n",
        "  print(i,pro_detail[i])"
      ],
      "execution_count": 85,
      "outputs": [
        {
          "output_type": "stream",
          "name": "stdout",
          "text": [
            "product_id 101\n",
            "name snacks\n",
            "exp 20aug2024\n",
            "price 20\n",
            "quant 40\n"
          ]
        }
      ]
    },
    {
      "cell_type": "code",
      "metadata": {
        "colab": {
          "base_uri": "https://localhost:8080/"
        },
        "id": "mEFqoK9hWEAC",
        "outputId": "320045f0-089c-4d80-b277-2dd627407c9b"
      },
      "source": [
        "pro_detail.values()"
      ],
      "execution_count": 86,
      "outputs": [
        {
          "output_type": "execute_result",
          "data": {
            "text/plain": [
              "dict_values(['101', 'snacks', '20aug2024', 20, 40])"
            ]
          },
          "metadata": {},
          "execution_count": 86
        }
      ]
    },
    {
      "cell_type": "code",
      "metadata": {
        "colab": {
          "base_uri": "https://localhost:8080/",
          "height": 135
        },
        "id": "9vfIEzo-ZG38",
        "outputId": "d8a32630-fd18-4c23-b079-8d08e373d9bd"
      },
      "source": [
        "for i is pro_detail:\n",
        "print(i)"
      ],
      "execution_count": 97,
      "outputs": [
        {
          "output_type": "error",
          "ename": "SyntaxError",
          "evalue": "ignored",
          "traceback": [
            "\u001b[0;36m  File \u001b[0;32m\"<ipython-input-97-cb65d403f31f>\"\u001b[0;36m, line \u001b[0;32m1\u001b[0m\n\u001b[0;31m    for i is pro_detail:\u001b[0m\n\u001b[0m           ^\u001b[0m\n\u001b[0;31mSyntaxError\u001b[0m\u001b[0;31m:\u001b[0m invalid syntax\n"
          ]
        }
      ]
    },
    {
      "cell_type": "code",
      "metadata": {
        "colab": {
          "base_uri": "https://localhost:8080/",
          "height": 207
        },
        "id": "asujtTaSZw6l",
        "outputId": "f6f0953b-f55e-4fb2-ea25-9b11af868f4c"
      },
      "source": [
        "fd = open(\"pro_detail.json\",'r')\n",
        "r = fd.read()\n",
        "fd.close()\n",
        "\n",
        "pro_detail = json.loads(r)"
      ],
      "execution_count": 101,
      "outputs": [
        {
          "output_type": "error",
          "ename": "NameError",
          "evalue": "ignored",
          "traceback": [
            "\u001b[0;31m---------------------------------------------------------------------------\u001b[0m",
            "\u001b[0;31mNameError\u001b[0m                                 Traceback (most recent call last)",
            "\u001b[0;32m<ipython-input-101-112052dbb7d1>\u001b[0m in \u001b[0;36m<module>\u001b[0;34m()\u001b[0m\n\u001b[1;32m      3\u001b[0m \u001b[0mfd\u001b[0m\u001b[0;34m.\u001b[0m\u001b[0mclose\u001b[0m\u001b[0;34m(\u001b[0m\u001b[0;34m)\u001b[0m\u001b[0;34m\u001b[0m\u001b[0;34m\u001b[0m\u001b[0m\n\u001b[1;32m      4\u001b[0m \u001b[0;34m\u001b[0m\u001b[0m\n\u001b[0;32m----> 5\u001b[0;31m \u001b[0mpro_detail\u001b[0m \u001b[0;34m=\u001b[0m \u001b[0mjson\u001b[0m\u001b[0;34m.\u001b[0m\u001b[0mloads\u001b[0m\u001b[0;34m(\u001b[0m\u001b[0mr\u001b[0m\u001b[0;34m)\u001b[0m\u001b[0;34m\u001b[0m\u001b[0;34m\u001b[0m\u001b[0m\n\u001b[0m",
            "\u001b[0;31mNameError\u001b[0m: name 'json' is not defined"
          ]
        }
      ]
    }
  ]
}